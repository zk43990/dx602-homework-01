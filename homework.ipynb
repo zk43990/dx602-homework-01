{
  "cells": [
    {
      "cell_type": "markdown",
      "metadata": {
        "id": "QOaT-IjJPQsu"
      },
      "source": [
        "# DX 602 Week 1 Homework"
      ]
    },
    {
      "cell_type": "markdown",
      "metadata": {
        "id": "t0DQIi_l4juO"
      },
      "source": [
        "## Introduction\n",
        "\n",
        "Practice is a large part of becoming fluent in a programming language.\n",
        "In this module, you will be assigned regular coding homework to practice Python.\n",
        "If these problems seem too easy to you, try to answer them faster, and make sure to check the auto-grader feedback to confirm the correctness of your answers.\n",
        "Like with spoken languages, fluency (speed) is highly correlated with proficiency.\n",
        "But it is important to answer the problems correctly first, then quickly.\n"
      ]
    },
    {
      "cell_type": "markdown",
      "metadata": {
        "id": "CV43vbQ-4oVJ"
      },
      "source": [
        "## Instructions\n",
        "\n",
        "You should replace every instance of \"...\" below.\n",
        "These are where you are expected to write code to answer each problem.\n",
        "\n",
        "Be sure to run each code block after you edit it to make sure it runs as expected.\n",
        "When you are done, we strongly recommend you run all the code from scratch (Runtime menu -> Restart and Run all) to make sure your current code works for all problems.\n",
        "\n",
        "If your code raises an exception when run from scratch, it will  interfere with the auto-grader process causing you to lose some or all points for this homework.\n",
        "Please ask for help in YellowDig or schedule an appointment with a learning facilitator if you get stuck.\n"
      ]
    },
    {
      "cell_type": "markdown",
      "metadata": {
        "id": "XZV7d5gn4ss6"
      },
      "source": [
        "### Submission\n",
        "\n",
        "To submit your homework, take the following steps.\n",
        "\n",
        "1. Save and commit this notebook.\n",
        "2. Push your changes to GitHub.\n",
        "3. Confirm that your changes are visible in GitHub.\n",
        "4. Delete the codespace to avoid wasting your free quota.\n",
        "\n",
        "The auto-grading process usually completes within a few minutes of pushing to GitHub, but occasionally can take several minutes to an hour.\n",
        "If you submit your homework early enough, you may review the auto-grading results and fix any mistakes before the deadline.\n"
      ]
    },
    {
      "cell_type": "markdown",
      "metadata": {
        "id": "j8b18WuX4wUh"
      },
      "source": [
        "## Problems"
      ]
    },
    {
      "cell_type": "markdown",
      "metadata": {
        "id": "a0UbChXd4zuf"
      },
      "source": [
        "### Problem 1\n",
        "\n",
        "Set `p1` to the integer 3."
      ]
    },
    {
      "cell_type": "code",
      "execution_count": 2,
      "metadata": {
        "id": "yJ7JQu5h42sU"
      },
      "outputs": [],
      "source": [
        "# YOUR CHANGES HERE\n",
        "\n",
        "p1 = 3"
      ]
    },
    {
      "cell_type": "code",
      "execution_count": 3,
      "metadata": {
        "id": "4xOM_tDiHdcB"
      },
      "outputs": [
        {
          "data": {
            "text/plain": [
              "3"
            ]
          },
          "execution_count": 3,
          "metadata": {},
          "output_type": "execute_result"
        }
      ],
      "source": [
        "p1"
      ]
    },
    {
      "cell_type": "markdown",
      "metadata": {
        "id": "2E3ZXfXW45Px"
      },
      "source": [
        "### Problem 2\n",
        "\n",
        "Set `p2` to the real number 3.0.\n",
        "`p2` should be a Python float."
      ]
    },
    {
      "cell_type": "code",
      "execution_count": 4,
      "metadata": {
        "id": "ZV2GHOqA476I"
      },
      "outputs": [],
      "source": [
        "# YOUR CHANGES HERE\n",
        "\n",
        "p2 = 3.0"
      ]
    },
    {
      "cell_type": "code",
      "execution_count": 5,
      "metadata": {
        "id": "FYHRZmPDHeKW"
      },
      "outputs": [
        {
          "data": {
            "text/plain": [
              "3.0"
            ]
          },
          "execution_count": 5,
          "metadata": {},
          "output_type": "execute_result"
        }
      ],
      "source": [
        "p2"
      ]
    },
    {
      "cell_type": "markdown",
      "metadata": {
        "id": "ShY-0ju9496j"
      },
      "source": [
        "### Problem 3\n",
        "\n",
        "Set the variable `p3` to the sum of one, three, and six. Don't worry about being clever, and just answer directly."
      ]
    },
    {
      "cell_type": "code",
      "execution_count": 6,
      "metadata": {
        "id": "VPMyS7zQ5AlT"
      },
      "outputs": [],
      "source": [
        "# YOUR CHANGES HERE\n",
        "\n",
        "p3 = 1+3+6"
      ]
    },
    {
      "cell_type": "code",
      "execution_count": 7,
      "metadata": {
        "id": "GiajUOISHfyC"
      },
      "outputs": [
        {
          "data": {
            "text/plain": [
              "10"
            ]
          },
          "execution_count": 7,
          "metadata": {},
          "output_type": "execute_result"
        }
      ],
      "source": [
        "p3"
      ]
    },
    {
      "cell_type": "markdown",
      "metadata": {
        "id": "GXfofbbr5Cfw"
      },
      "source": [
        "### Problem 4\n",
        "\n",
        "Write a function `p4` that takes in three arguments and returns their sum."
      ]
    },
    {
      "cell_type": "code",
      "execution_count": 12,
      "metadata": {
        "id": "EJ5Kua-K5Feo"
      },
      "outputs": [],
      "source": [
        "# YOUR CHANGES HERE\n",
        "\n",
        "def p4(a, b, c):\n",
        "    return a+b+c"
      ]
    },
    {
      "cell_type": "code",
      "execution_count": 13,
      "metadata": {
        "id": "w1ZBcXD_Hgxi"
      },
      "outputs": [
        {
          "data": {
            "text/plain": [
              "0"
            ]
          },
          "execution_count": 13,
          "metadata": {},
          "output_type": "execute_result"
        }
      ],
      "source": [
        "p4(0, 0, 0)"
      ]
    },
    {
      "cell_type": "code",
      "execution_count": 14,
      "metadata": {
        "id": "LTwaZyLGHj-w"
      },
      "outputs": [
        {
          "data": {
            "text/plain": [
              "6"
            ]
          },
          "execution_count": 14,
          "metadata": {},
          "output_type": "execute_result"
        }
      ],
      "source": [
        "p4(1, 2, 3)"
      ]
    },
    {
      "cell_type": "markdown",
      "metadata": {
        "id": "yv9a3VFk5FHq"
      },
      "source": [
        "### Problem 5\n",
        "\n",
        "Write a function `p5` that takes in two arguments and returns True if they are equal and False otherwise."
      ]
    },
    {
      "cell_type": "code",
      "execution_count": 15,
      "metadata": {
        "id": "ZrSsXBh-5JO7"
      },
      "outputs": [],
      "source": [
        "# YOUR CHANGES HERE\n",
        "\n",
        "def p5(x, y):\n",
        "    return x==y"
      ]
    },
    {
      "cell_type": "code",
      "execution_count": 16,
      "metadata": {
        "id": "o2gsegx-Hlc0"
      },
      "outputs": [
        {
          "data": {
            "text/plain": [
              "True"
            ]
          },
          "execution_count": 16,
          "metadata": {},
          "output_type": "execute_result"
        }
      ],
      "source": [
        "p5(0, 0)"
      ]
    },
    {
      "cell_type": "code",
      "execution_count": 17,
      "metadata": {
        "id": "xfgi5mBhHnDX"
      },
      "outputs": [
        {
          "data": {
            "text/plain": [
              "False"
            ]
          },
          "execution_count": 17,
          "metadata": {},
          "output_type": "execute_result"
        }
      ],
      "source": [
        "p5(\"x\", \"y\")"
      ]
    },
    {
      "cell_type": "code",
      "execution_count": 18,
      "metadata": {
        "id": "KgRiCwlEHoWA"
      },
      "outputs": [
        {
          "data": {
            "text/plain": [
              "False"
            ]
          },
          "execution_count": 18,
          "metadata": {},
          "output_type": "execute_result"
        }
      ],
      "source": [
        "p5(3.4, 5)"
      ]
    },
    {
      "cell_type": "markdown",
      "metadata": {
        "id": "r-8CBdxB5LP3"
      },
      "source": [
        "### Problem 6\n",
        "\n",
        "Set the variable `p6` to be one third."
      ]
    },
    {
      "cell_type": "code",
      "execution_count": 19,
      "metadata": {
        "id": "iDZTgquj5NsG"
      },
      "outputs": [],
      "source": [
        "# YOUR CHANGES HERE\n",
        "\n",
        "p6 = 1/3"
      ]
    },
    {
      "cell_type": "code",
      "execution_count": 20,
      "metadata": {
        "id": "dhk_hb99Hvhj"
      },
      "outputs": [
        {
          "data": {
            "text/plain": [
              "0.3333333333333333"
            ]
          },
          "execution_count": 20,
          "metadata": {},
          "output_type": "execute_result"
        }
      ],
      "source": [
        "p6"
      ]
    },
    {
      "cell_type": "markdown",
      "metadata": {
        "id": "QM6FnmHE5PkQ"
      },
      "source": [
        "### Problem 7\n",
        "\n",
        "Set the variable `p7` to be two and one fifth."
      ]
    },
    {
      "cell_type": "code",
      "execution_count": 21,
      "metadata": {
        "id": "3eryw2ST5Rm_"
      },
      "outputs": [],
      "source": [
        "# YOUR CHANGES HERE\n",
        "\n",
        "p7 = 2+(1/5)"
      ]
    },
    {
      "cell_type": "code",
      "execution_count": 22,
      "metadata": {
        "id": "W__NDsMKHwT0"
      },
      "outputs": [
        {
          "data": {
            "text/plain": [
              "2.2"
            ]
          },
          "execution_count": 22,
          "metadata": {},
          "output_type": "execute_result"
        }
      ],
      "source": [
        "p7"
      ]
    },
    {
      "cell_type": "markdown",
      "metadata": {
        "id": "WPlQCiia5TgA"
      },
      "source": [
        "### Problem 8\n",
        "\n",
        "We often see the size of the approximation errors by taking a round looking decimal number, say 3.3, and subtracting out the whole numbers.\n",
        "In this case, that would be 3.3 - 3.\n",
        "If you then subtract the original fractional part, 0.3 in this case, you can see the accumulated error.\n",
        "So that calculation is (3.3 - 3) - 0.3.\n",
        "Set `p8` to that value.\n"
      ]
    },
    {
      "cell_type": "code",
      "execution_count": 27,
      "metadata": {
        "id": "TWqR6qCk5UOJ"
      },
      "outputs": [],
      "source": [
        "# YOUR CHANGES HERE\n",
        "\n",
        "p8 = (3.3-3)-0.3"
      ]
    },
    {
      "cell_type": "code",
      "execution_count": 28,
      "metadata": {
        "id": "p3vpsyr4HxUM"
      },
      "outputs": [
        {
          "data": {
            "text/plain": [
              "-1.6653345369377348e-16"
            ]
          },
          "execution_count": 28,
          "metadata": {},
          "output_type": "execute_result"
        }
      ],
      "source": [
        "p8"
      ]
    },
    {
      "cell_type": "markdown",
      "metadata": {
        "id": "9xP7Tqp65c3A"
      },
      "source": [
        "### Problem 9\n",
        "\n",
        "The speed of light is approximately $3 \\times 10^8$ meters per second.\n",
        "One kilometer is $10^3$ meters.\n",
        "Set `p9` to the speed of light in kilometers per second.\n",
        "\n"
      ]
    },
    {
      "cell_type": "code",
      "execution_count": 34,
      "metadata": {
        "id": "tCEFe1Wx5kO3"
      },
      "outputs": [],
      "source": [
        "# YOUR CHANGES HERE\n",
        "\n",
        "p9 = (3e8)/(1e3)"
      ]
    },
    {
      "cell_type": "code",
      "execution_count": 35,
      "metadata": {
        "id": "5htsTEgZHyZK"
      },
      "outputs": [
        {
          "data": {
            "text/plain": [
              "300000.0"
            ]
          },
          "execution_count": 35,
          "metadata": {},
          "output_type": "execute_result"
        }
      ],
      "source": [
        "p9"
      ]
    },
    {
      "cell_type": "markdown",
      "metadata": {
        "id": "sekvAo195nSw"
      },
      "source": [
        "### Problem 10\n",
        "\n",
        "The following code imports the math module, giving access to functions defined in the module."
      ]
    },
    {
      "cell_type": "code",
      "execution_count": 36,
      "metadata": {
        "id": "3Q0zifds5pe5"
      },
      "outputs": [],
      "source": [
        "import math"
      ]
    },
    {
      "cell_type": "markdown",
      "metadata": {
        "id": "YYe_TbN-5r1Z"
      },
      "source": [
        "For example, the sine function from trigonometry is `math.sin`.\n",
        "Note that it is called \"sin\", not \"sine\", in that module.\n",
        "To call that function with input zero, use `math.sin(0)`."
      ]
    },
    {
      "cell_type": "code",
      "execution_count": 37,
      "metadata": {
        "colab": {
          "base_uri": "https://localhost:8080/"
        },
        "id": "DHPxwS9N5uNM",
        "outputId": "e15db717-80ab-419c-c109-ce8b2a5d3feb"
      },
      "outputs": [
        {
          "data": {
            "text/plain": [
              "0.0"
            ]
          },
          "execution_count": 37,
          "metadata": {},
          "output_type": "execute_result"
        }
      ],
      "source": [
        "math.sin(0)"
      ]
    },
    {
      "cell_type": "markdown",
      "metadata": {
        "id": "_xyCNTym5v_v"
      },
      "source": [
        "Set `p10` to be sin(1)."
      ]
    },
    {
      "cell_type": "code",
      "execution_count": 38,
      "metadata": {
        "id": "tBdygRE_5xxT"
      },
      "outputs": [],
      "source": [
        "# YOUR CHANGES HERE\n",
        "\n",
        "p10 = math.sin(1)"
      ]
    },
    {
      "cell_type": "code",
      "execution_count": 39,
      "metadata": {
        "id": "FM4M3TZnHzX6"
      },
      "outputs": [
        {
          "data": {
            "text/plain": [
              "0.8414709848078965"
            ]
          },
          "execution_count": 39,
          "metadata": {},
          "output_type": "execute_result"
        }
      ],
      "source": [
        "p10"
      ]
    },
    {
      "cell_type": "markdown",
      "metadata": {
        "id": "o-3-NQjC50HR"
      },
      "source": [
        "### Problem 11\n",
        "\n",
        "The math module includes many other commonly used functions.\n",
        "The documentation for the math module is here -\n",
        "\n",
        "  https://docs.python.org/3/library/math.html\n",
        "  \n",
        "Find the function to calculate $e^x$ (e to the x'th power), and use it to set `p11` equal to $e^3$."
      ]
    },
    {
      "cell_type": "code",
      "execution_count": 40,
      "metadata": {
        "id": "qTE_bmFj6AQ6"
      },
      "outputs": [],
      "source": [
        "# YOUR CHANGES HERE\n",
        "\n",
        "p11 = math.exp(3)"
      ]
    },
    {
      "cell_type": "code",
      "execution_count": 41,
      "metadata": {
        "id": "iY99IMYGH0Tz"
      },
      "outputs": [
        {
          "data": {
            "text/plain": [
              "20.085536923187668"
            ]
          },
          "execution_count": 41,
          "metadata": {},
          "output_type": "execute_result"
        }
      ],
      "source": [
        "p11"
      ]
    },
    {
      "cell_type": "markdown",
      "metadata": {
        "id": "4YxtszZ-6C0c"
      },
      "source": [
        "### Problem 12\n",
        "\n",
        "Use the math module again to set `p12` to $\\sqrt{3}$, the square root of 3."
      ]
    },
    {
      "cell_type": "code",
      "execution_count": 42,
      "metadata": {
        "id": "Pw8fDvGd6Jk0"
      },
      "outputs": [],
      "source": [
        "# YOUR CHANGES HERE\n",
        "\n",
        "p12 = math.sqrt(3)"
      ]
    },
    {
      "cell_type": "code",
      "execution_count": 43,
      "metadata": {
        "id": "GbA56KGJH1LA"
      },
      "outputs": [
        {
          "data": {
            "text/plain": [
              "1.7320508075688772"
            ]
          },
          "execution_count": 43,
          "metadata": {},
          "output_type": "execute_result"
        }
      ],
      "source": [
        "p12"
      ]
    },
    {
      "cell_type": "markdown",
      "metadata": {
        "id": "WEapGHN26NBX"
      },
      "source": [
        "### Problem 13\n",
        "\n",
        "Set `p13` to the mathematical constant $\\pi$ (pi).\n",
        "Use the math module to get the best floating point approximation."
      ]
    },
    {
      "cell_type": "code",
      "execution_count": 44,
      "metadata": {
        "id": "w0BnebxL6QM9"
      },
      "outputs": [],
      "source": [
        "# YOUR CHANGES HERE\n",
        "\n",
        "p13 = math.pi"
      ]
    },
    {
      "cell_type": "code",
      "execution_count": 45,
      "metadata": {
        "id": "c_ikDgKpH2DQ"
      },
      "outputs": [
        {
          "data": {
            "text/plain": [
              "3.141592653589793"
            ]
          },
          "execution_count": 45,
          "metadata": {},
          "output_type": "execute_result"
        }
      ],
      "source": [
        "p13"
      ]
    },
    {
      "cell_type": "markdown",
      "metadata": {
        "id": "lvp791BP6R44"
      },
      "source": [
        "### Problem 14\n",
        "\n",
        "For positive integers, the factorial function is defined as follows.\n",
        "\n",
        "\\begin{array}{rcl}\n",
        "n! & = & 1 \\times 2 \\times 3 \\times \\cdots \\times n \\\\\n",
        "\\end{array}\n",
        "\n",
        "where $n!$ is read as $n$ factorial.\n",
        "\n",
        "For example, $1! = 1$, $3! = 1 \\times 2 \\times 3 = 6$, and $5! = 1 \\times 2 \\times 3 \\times 4 \\times 5 = 120$.\n",
        "\n",
        "Set `p14` to $14!$.\n",
        "\n",
        "You are welcome to use a function or type in the formula yourself, but please calculate it instead of typing or pasting the final number."
      ]
    },
    {
      "cell_type": "code",
      "execution_count": 48,
      "metadata": {
        "id": "F4L52F276UPo"
      },
      "outputs": [],
      "source": [
        "# YOUR CHANGES HERE\n",
        "\n",
        "p14 = math.factorial(14)"
      ]
    },
    {
      "cell_type": "code",
      "execution_count": 49,
      "metadata": {
        "id": "5ZVHhpI9H3Jo"
      },
      "outputs": [
        {
          "data": {
            "text/plain": [
              "87178291200"
            ]
          },
          "execution_count": 49,
          "metadata": {},
          "output_type": "execute_result"
        }
      ],
      "source": [
        "p14"
      ]
    },
    {
      "cell_type": "markdown",
      "metadata": {
        "id": "rmgbmKpS6Wex"
      },
      "source": [
        "### Problem 15\n",
        "\n",
        "Write a function `p15` that takes in three inputs $a$, $b$, and $c$, and returns the value $3a + 4b - 5c + 6$."
      ]
    },
    {
      "cell_type": "code",
      "execution_count": 55,
      "metadata": {
        "id": "S8WfkGv26Yvn"
      },
      "outputs": [],
      "source": [
        "# YOUR CHANGES HERE\n",
        "\n",
        "def p15(a, b, c):\n",
        "    return 3*a + 4*b - 5*c + 6"
      ]
    },
    {
      "cell_type": "code",
      "execution_count": 56,
      "metadata": {
        "id": "Q_xFXezgH3-s"
      },
      "outputs": [
        {
          "data": {
            "text/plain": [
              "6"
            ]
          },
          "execution_count": 56,
          "metadata": {},
          "output_type": "execute_result"
        }
      ],
      "source": [
        "p15(0, 0, 0)"
      ]
    },
    {
      "cell_type": "code",
      "execution_count": 57,
      "metadata": {
        "id": "3gVSX-mIk5dp"
      },
      "outputs": [
        {
          "data": {
            "text/plain": [
              "8"
            ]
          },
          "execution_count": 57,
          "metadata": {},
          "output_type": "execute_result"
        }
      ],
      "source": [
        "p15(1, 1, 1)"
      ]
    },
    {
      "cell_type": "code",
      "execution_count": 58,
      "metadata": {
        "id": "5NOKoX_Ek62M"
      },
      "outputs": [
        {
          "data": {
            "text/plain": [
              "2.0"
            ]
          },
          "execution_count": 58,
          "metadata": {},
          "output_type": "execute_result"
        }
      ],
      "source": [
        "p15(1.0, 2.0, 3.0)"
      ]
    },
    {
      "cell_type": "markdown",
      "metadata": {
        "id": "lPmBvmtZ6a8_"
      },
      "source": [
        "### Problem 16\n",
        "\n",
        "Write a function `p16` that takes in two inputs $a$ and $b$, and returns $\\mathrm{cos}(a) + b$."
      ]
    },
    {
      "cell_type": "code",
      "execution_count": 59,
      "metadata": {
        "colab": {
          "base_uri": "https://localhost:8080/"
        },
        "id": "mJLPah0m6f7Q",
        "outputId": "1642eb67-8d55-4726-a34d-6979b8cb3fb8"
      },
      "outputs": [],
      "source": [
        "# YOUR CHANGES HERE\n",
        "\n",
        "def p16(a,b):\n",
        "    return math.cos(a) + b"
      ]
    },
    {
      "cell_type": "markdown",
      "metadata": {
        "id": "T7bVjQ696h16"
      },
      "source": [
        "### Problem 17\n",
        "\n",
        "Set `p17` to be the type of the expression `3 + 4 / 5`."
      ]
    },
    {
      "cell_type": "code",
      "execution_count": 60,
      "metadata": {
        "colab": {
          "base_uri": "https://localhost:8080/"
        },
        "id": "nUpjY-7x6kSK",
        "outputId": "4e15cdb5-4c31-443d-d076-4d45ae327038"
      },
      "outputs": [],
      "source": [
        "# YOUR CHANGES HERE\n",
        "\n",
        "p17 = type((3+4)/5)"
      ]
    },
    {
      "cell_type": "markdown",
      "metadata": {
        "id": "7_cNbghT6kvq"
      },
      "source": [
        "### Problem 18\n",
        "\n",
        "Write a function `p18` that returns the sum of its two inputs."
      ]
    },
    {
      "cell_type": "code",
      "execution_count": 61,
      "metadata": {
        "colab": {
          "base_uri": "https://localhost:8080/"
        },
        "id": "QcIIduHR6odr",
        "outputId": "324ea7ab-2188-403d-951c-016528c68f1b"
      },
      "outputs": [],
      "source": [
        "# YOUR CHANGES HERE\n",
        "\n",
        "def p18(a,b):\n",
        "    return a+b"
      ]
    },
    {
      "cell_type": "markdown",
      "metadata": {
        "id": "c8BeHPK26qH6"
      },
      "source": [
        "### Problem 19\n",
        "\n",
        "Set `p19` to $\\pi - 22/7$ using the math module to get the value for $\\pi$."
      ]
    },
    {
      "cell_type": "code",
      "execution_count": 62,
      "metadata": {
        "colab": {
          "base_uri": "https://localhost:8080/"
        },
        "id": "LsaqUFiy6sZA",
        "outputId": "56ee735d-ac3c-4269-9039-09ece7ff827d"
      },
      "outputs": [],
      "source": [
        "# YOUR CHANGES HERE\n",
        "\n",
        "p19 = (math.pi - 22)/7"
      ]
    },
    {
      "cell_type": "markdown",
      "metadata": {
        "id": "SBmdyODe6tJJ"
      },
      "source": [
        "### Problem 20\n",
        "\n",
        "Set `p20` to 1 if you thought this homework was easy, and 0 if you thought it was hard.\n",
        "Either value will give you full credit for this problem."
      ]
    },
    {
      "cell_type": "code",
      "execution_count": 63,
      "metadata": {
        "colab": {
          "base_uri": "https://localhost:8080/"
        },
        "id": "dEoB-5h26vMc",
        "outputId": "48faba19-feee-49b5-8659-f8e5b7b15055"
      },
      "outputs": [],
      "source": [
        "# YOUR CHANGES HERE\n",
        "\n",
        "p20 = 1"
      ]
    }
  ],
  "metadata": {
    "colab": {
      "toc_visible": false
    },
    "kernelspec": {
      "display_name": "Python 3",
      "name": "python3"
    },
    "language_info": {
      "codemirror_mode": {
        "name": "ipython",
        "version": 3
      },
      "file_extension": ".py",
      "mimetype": "text/x-python",
      "name": "python",
      "nbconvert_exporter": "python",
      "pygments_lexer": "ipython3",
      "version": "3.12.1"
    }
  },
  "nbformat": 4,
  "nbformat_minor": 0
}
